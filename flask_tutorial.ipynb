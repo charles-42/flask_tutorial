{
 "cells": [
  {
   "cell_type": "markdown",
   "metadata": {},
   "source": [
    "# Introduction"
   ]
  },
  {
   "cell_type": "markdown",
   "metadata": {},
   "source": [
    "**`wikipedia`**:  \n",
    "Flask est un micro framework open-source de développement web en Python. Flask a pour objectif de garder un noyau simple mais extensible. \n",
    "\n",
    "Il n'intègre pas par exemple: \n",
    "- de système d'authentification\n",
    "- de couche d'abstraction de base de données\n",
    "- d'outil de validation de formulaires\n",
    "\n",
    "Cependant, de nombreuses extensions permettent d'ajouter facilement des fonctionnalités"
   ]
  },
  {
   "cell_type": "markdown",
   "metadata": {},
   "source": [
    "Preuve de cette simplicité il suffit d'écrire cela pour créer une application flask de **`pip3 install flask`** et puis de taper:"
   ]
  },
  {
   "cell_type": "code",
   "execution_count": null,
   "metadata": {},
   "outputs": [],
   "source": [
    "# main.py\n",
    "\n",
    "from flask import Flask\n",
    "\n",
    "# on instancie un objet Flask qui est notre application\n",
    "app = Flask(__name__)\n",
    "\n",
    "# On définit notre première vue\n",
    "@app.route(\"/\")\n",
    "def home():\n",
    "    return \"Hello\"\n",
    "# Il faut lire ça: quand j'ai une requete sur l'url / (la racine), j'appelle cette vue \"home\"\n",
    "# Cette vue renvoie \"Hello\"\n",
    "# Par défaut je définis le comportement quand j'ai un requete \"get\"\n",
    "\n",
    "# Je finis ensuite par lancer mon application en local\n",
    "if __name__ == \"__main__\":\n",
    "    app.run(debug=True)"
   ]
  },
  {
   "cell_type": "markdown",
   "metadata": {},
   "source": [
    "# Création des vues"
   ]
  },
  {
   "cell_type": "markdown",
   "metadata": {},
   "source": [
    "Cette app est très simple mais elle fonctionnne.\n",
    "\n",
    "Il faut maintenant définir notre projet. Je voudrais créer une application web qui référencie toutes mes chaines youtubes préférées. Je vais donc pour le moment avoir besoin de deux types de pages:\n",
    "- une page d'accueil qui liste toutes les chaines\n",
    "- une page par chaine qui la présente"
   ]
  },
  {
   "cell_type": "markdown",
   "metadata": {},
   "source": [
    "Mais avant toutes choses je dois définir ces chaines youtubes que j'aime tant:"
   ]
  },
  {
   "cell_type": "code",
   "execution_count": 2,
   "metadata": {},
   "outputs": [],
   "source": [
    "# channel_dictionnary.py\n",
    "\n",
    "channel_dictionary = {\n",
    "    \"Tech_With_Time\": {\n",
    "        \"title\": \"Tech_With_Time\",\n",
    "        \"description\": \"Learn programming, software engineering, machine learning and everything tech from this channel. With a special emphasis on python and javascript my channel aims to give you free resources so that you can learn to code and dive into the software engineering and programming industry. My goal is to provide the highest quality programming and tech videos on the internet! \",\n",
    "        \"url\": \"https://www.youtube.com/c/TechWithTim/about\",\n",
    "        \"language\": \"English\",\n",
    "        \"subjects\": [\"Flask\",\"Python\"],\n",
    "        \"image_url\":\"https://yt3.ggpht.com/ytc/AKedOLQXx-JXf1NsSUtVHcYhx4B4MaIYE0m7I_H0GHmu-w=s900-c-k-c0x00ffffff-no-rj\"\n",
    "        },\n",
    "    \"Docstring\": {\n",
    "        \"title\": \"Docstring\",\n",
    "        \"description\": \"Tutoriels, trucs & astuces, bonnes pratiques autour du langage Python, de différents framework (Django, Qt for Python...) et du développement en général.\",\n",
    "        \"url\": \"https://www.youtube.com/c/Docstring/featured\",\n",
    "        \"language\": \"French\",\n",
    "        \"subjects\": [\"Python\"],\n",
    "        \"image_url\":\"https://yt3.ggpht.com/3sXh0-ipDGiHgBRTle8sbGLjKm6p0PENZAeoo2-H_w3NxOLXLI7Khw2ZEi7olJNs2kMNEcql=s900-c-k-c0x00ffffff-no-rj\"\n",
    "        },\n",
    "\n",
    "    \"ArjanCodes\": {\n",
    "        \"title\": \"ArjanCodes\",\n",
    "        \"description\": \"On this channel, I post videos about programming and software design to help you take your coding skills to the next level. I'm an entrepreneur and a university lecturer in computer science, with more than 20 years of experience in software development and design. If you're a software developer and you want to improve your development skills, and learn more about programming in general, make sure to subscribe for helpful videos.\",\n",
    "        \"url\": \"https://www.youtube.com/c/ArjanCodes/featured\",\n",
    "        \"language\": \"English\",\n",
    "        \"subjects\": [\"Python\",\"POO\"],\n",
    "        \"image_url\":\"https://yt3.ggpht.com/PF_5a9pF_CurRWcBpGxAvYv-uMc6bsK_LYpmgHDMDnG5tTzHbYU7Jz55pU_QXm1f0nVLTmlzZw=s900-c-k-c0x00ffffff-no-rj\"\n",
    "        }\n",
    "    }\n"
   ]
  },
  {
   "cell_type": "markdown",
   "metadata": {},
   "source": [
    "Je le met dans un fichier et l'importe"
   ]
  },
  {
   "cell_type": "code",
   "execution_count": null,
   "metadata": {},
   "outputs": [],
   "source": [
    "# main.py\n",
    "from channel_dictionary import channel_dictionary"
   ]
  },
  {
   "cell_type": "markdown",
   "metadata": {},
   "source": [
    "Je peux maintenant créer mes deux vues"
   ]
  },
  {
   "cell_type": "code",
   "execution_count": null,
   "metadata": {},
   "outputs": [],
   "source": [
    "# main.py\n",
    "\n",
    "@app.route(\"/\")\n",
    "def home():\n",
    "    return str(channel_dictionary.keys())\n",
    "\n",
    "# les <> permmettent d'envoyer le contenu à l'intérieur de l'url comme paramètre de la fonction\n",
    "# qui définit la vue (je récupère donc ce qui est tappé dans channel.)\n",
    "@app.route(\"/<channel>\")\n",
    "def channel(channel):\n",
    "    return channel_dictionary[channel]"
   ]
  },
  {
   "cell_type": "markdown",
   "metadata": {},
   "source": [
    "J'ai donc bien créer mes deux vue, sachant que pour l'une de ces deux vues j'ai trois versions différentes. Mon application a maintenant deux problèmes principaux:\n",
    "- Elle est moche\n",
    "- je ne peux pas passer d'une vue à l'autre à part en modifiant l'url. l'application n'est pas du tout interactive.\n",
    "Mon app est en fait au mieux une mauvaise API mais pas une application"
   ]
  },
  {
   "cell_type": "markdown",
   "metadata": {},
   "source": [
    "# Gestion des templates"
   ]
  },
  {
   "cell_type": "markdown",
   "metadata": {},
   "source": [
    "## Gérer les dispositions des éléments avec HTML"
   ]
  },
  {
   "cell_type": "markdown",
   "metadata": {},
   "source": [
    "Pour faire ces deux améliorations à mon app je dois m'occuper des templates.\n",
    "\n",
    "Les templates sont des fichiers HTML qui comme tout fichier HTML, ont plusieurs objectifs:\n",
    "- Définir la disposition des éléments sur ma page\n",
    "- Afficher les différents éléments: liens, formualaires\n",
    "- Intéragir avec les fichiers CSS pour définir les formats\n"
   ]
  },
  {
   "cell_type": "markdown",
   "metadata": {},
   "source": [
    "Il est donc important pour utiliser flask de connaitre les bases en html et css, c'est à dire savoir les lire, connaitre leurs principales fonctionnalités (liens, formulaires) et savoir les modifier à la marge"
   ]
  },
  {
   "cell_type": "markdown",
   "metadata": {},
   "source": [
    "Les fichiers html doivent être ajouté dans un dossier appelé **`templates`**"
   ]
  },
  {
   "cell_type": "markdown",
   "metadata": {},
   "source": [
    "On peut ainsi définir le template de notre page d'accueil. On commence avec un code html très simple"
   ]
  },
  {
   "cell_type": "code",
   "execution_count": null,
   "metadata": {},
   "outputs": [],
   "source": [
    "#index.html\n",
    "\"\"\"\n",
    "<!DOCTYPE html>\n",
    "<html>\n",
    "<head>\n",
    "    <title> Mes chaines youtubes favorites </title>\n",
    "</head>\n",
    "<body>\n",
    "    <h1> La tier liste de mes chaines youtube:</h1>\n",
    "\n",
    "    <p> {{chaines_titles}} </p>\n",
    "\n",
    "</body>\n",
    "</html>\n",
    "\"\"\""
   ]
  },
  {
   "cell_type": "code",
   "execution_count": null,
   "metadata": {},
   "outputs": [],
   "source": [
    "#channel.html\n",
    "\"\"\"\n",
    "<!DOCTYPE html>\n",
    "<html>\n",
    "<head>\n",
    "    <title> Zoom sur une chaine </title>\n",
    "</head>\n",
    "<body>\n",
    "    <h1> {{channel.title}}</h1>\n",
    "\n",
    "    <a href={{channel.url}}> Visiter la chaine</a>\n",
    "   \n",
    "    <p> \n",
    "    <img src={{channel.image_url}} alt=\"Image de la chaine\"  width=400 />\n",
    "    </p>\n",
    "  \n",
    "    <p> {{channel.description}} </p>\n",
    "    <p> Langue: {{channel.language}} </p>\n",
    "    <p> Les sujets abordés: {{channel.subjects}} </p>\n",
    "\n",
    "</body>\n",
    "</html>\n",
    "\"\"\""
   ]
  },
  {
   "cell_type": "markdown",
   "metadata": {},
   "source": [
    "Il faut ensuite indiquer dans ma vue que c'est au travers de ce template qu'elle va s'afficher"
   ]
  },
  {
   "cell_type": "code",
   "execution_count": null,
   "metadata": {},
   "outputs": [],
   "source": [
    "# main.py\n",
    "\n",
    "from flask import render_template\n",
    "\n",
    "@app.route(\"/\")\n",
    "def home():\n",
    "    return render_template(\"index.html\", chaines_titles=str(channel_dictionary.keys()))\n",
    "\n",
    "@app.route(\"/<channel>\")\n",
    "def channel(channel):\n",
    "    return render_template(\"channel.html\", channel=channel_dictionary[channel])\n"
   ]
  },
  {
   "cell_type": "markdown",
   "metadata": {},
   "source": [
    "Alors dire que c'est beau serait peut-être exagéré, mais nos élements ont à présent une certaine disposition. \n",
    "Ce qu'il manque à présent c'est la navigation"
   ]
  },
  {
   "cell_type": "markdown",
   "metadata": {},
   "source": [
    "Le dynamisme se fait à travers des liens. On a vue des les liens externes, les liens internes marches de la meme manière/ Le problème c'est que nos liens se trouve dans le str des clefs de mon dictionnaire. Il faut changer cela, et pour cela on va utiliser une fonctionnalité de jinja, à savoir pouvoir intégrer du python"
   ]
  },
  {
   "cell_type": "code",
   "execution_count": null,
   "metadata": {},
   "outputs": [],
   "source": [
    "   #index.html\n",
    "\n",
    "    \"\"\"\n",
    "    <h1> La tier liste de mes chaines youtube:</h1>\n",
    "\n",
    "    <ul>\n",
    "    {% for channel in channel_dictionary%}\n",
    "    <li> \n",
    "    <a href={{channel_dictionary[channel][\"title\"]}}> {{channel_dictionary[channel][\"title\"]}}</a>\n",
    "        </li>\n",
    "        {% endfor %}\n",
    "        \n",
    "        {{chaines_titles}} \n",
    "    </ul>\n",
    "    \"\"\""
   ]
  },
  {
   "cell_type": "markdown",
   "metadata": {},
   "source": [
    "De meme on l'intègre à la vue:"
   ]
  },
  {
   "cell_type": "code",
   "execution_count": null,
   "metadata": {},
   "outputs": [],
   "source": [
    "# main.py\n",
    "\n",
    "@app.route(\"/\")\n",
    "def home():\n",
    "    return render_template(\"index.html\", channel_dictionary = channel_dictionary)"
   ]
  },
  {
   "cell_type": "markdown",
   "metadata": {},
   "source": [
    "## Gérer rapidement les styles avec l'héritage Jinja et Bootstrap"
   ]
  },
  {
   "cell_type": "markdown",
   "metadata": {},
   "source": [
    "Nous allons utiliser bootstrap pour rapidement rendre notre application plus belle. Plutot que définir à la main le style de chaque élément, nous utilisons ainsi les styles de [Bootstrap](https://getbootstrap.com/) par défaut"
   ]
  },
  {
   "cell_type": "code",
   "execution_count": null,
   "metadata": {},
   "outputs": [],
   "source": [
    "#index.html\n",
    "\n",
    "\"\"\"\n",
    "<head>\n",
    "    <link href=\"https://cdn.jsdelivr.net/npm/bootstrap@5.1.3/dist/css/bootstrap.min.css\" rel=\"stylesheet\" integrity=\"sha384-1BmE4kWBq78iYhFldvKuhfTAU6auU8tT94WrHftjDbrCEXSU1oBoqyl2QvZ6jIW3\" crossorigin=\"anonymous\">\n",
    "    <title> Mes chaines youtubes favorites </title>\n",
    "</head>\n",
    "\n",
    "<script src=\"https://cdn.jsdelivr.net/npm/bootstrap@5.1.3/dist/js/bootstrap.bundle.min.js\" integrity=\"sha384-ka7Sk0Gln4gmtz2MlQnikT1wXgYsOg+OMhuP+IlRH9sENBO0LRn5q+8nbTov4+1p\" crossorigin=\"anonymous\"></script>\n",
    "</body>\n",
    "</html>\n",
    "\"\"\""
   ]
  },
  {
   "cell_type": "markdown",
   "metadata": {},
   "source": [
    "C'est bien mais je n'ai pas envie d'écrire ça pour toute mes pages. Je vais donc utiliser une fonctionnalité de Jinja, l'héritage"
   ]
  },
  {
   "cell_type": "code",
   "execution_count": null,
   "metadata": {},
   "outputs": [],
   "source": [
    "#base.html\n",
    "\n",
    "\"\"\"\n",
    "<!DOCTYPE html>\n",
    "<html>\n",
    "<head>\n",
    "    <link href=\"https://cdn.jsdelivr.net/npm/bootstrap@5.1.3/dist/css/bootstrap.min.css\" rel=\"stylesheet\" integrity=\"sha384-1BmE4kWBq78iYhFldvKuhfTAU6auU8tT94WrHftjDbrCEXSU1oBoqyl2QvZ6jIW3\" crossorigin=\"anonymous\">\n",
    "    <title> {% block title %} {% endblock  %} </title>\n",
    "</head>\n",
    "<body>\n",
    "    {% block content %} {% endblock  %}\n",
    "<script src=\"https://cdn.jsdelivr.net/npm/bootstrap@5.1.3/dist/js/bootstrap.bundle.min.js\" integrity=\"sha384-ka7Sk0Gln4gmtz2MlQnikT1wXgYsOg+OMhuP+IlRH9sENBO0LRn5q+8nbTov4+1p\" crossorigin=\"anonymous\"></script>\n",
    "</body>\n",
    "</html>\n",
    "\"\"\""
   ]
  },
  {
   "cell_type": "code",
   "execution_count": null,
   "metadata": {},
   "outputs": [],
   "source": [
    "# index. html\n",
    "\n",
    "\"\"\"{% extends \"base.html\" %} \n",
    "\n",
    "{% block title %} \n",
    "Mes chaines youtubes favorites \n",
    "{% endblock  %} \n",
    "\n",
    "{% block content %} \n",
    "<h1> La tier liste de mes chaines youtube:</h1>\n",
    "\n",
    "<ul>\n",
    "    {% for channel in channel_dictionary%}\n",
    "    <li> \n",
    "    <a href={{channel_dictionary[channel][\"title\"]}}> {{channel_dictionary[channel][\"title\"]}}</a>\n",
    "    </li>\n",
    "    {% endfor %}\n",
    "    \n",
    "    {{chaines_titles}} \n",
    "</ul>\n",
    "{% endblock  %} \n",
    "\n",
    "\"\"\""
   ]
  },
  {
   "cell_type": "code",
   "execution_count": null,
   "metadata": {},
   "outputs": [],
   "source": [
    "# channel.html\n",
    "\n",
    "\"\"\"\n",
    "{% extends \"base.html\" %} \n",
    "\n",
    "{% block title %} \n",
    "Zoom sur une chaine\n",
    "{% endblock  %} \n",
    "\n",
    "{% block content %} \n",
    "<h1> {{channel.title}}</h1>\n",
    "\n",
    "<a href={{channel.url}}> Visiter la chaine</a>\n",
    "\n",
    "<p> \n",
    "<img src={{channel.image_url}} alt=\"Image de la chaine\" width=400 />\n",
    "</p>\n",
    "\n",
    "<p> {{channel.description}} </p>\n",
    "<p> Langue: {{channel.language}} </p>\n",
    "<p> Les sujets abordés: {{channel.subjects}} </p>\n",
    "{% endblock  %} \n",
    "\"\"\""
   ]
  },
  {
   "cell_type": "markdown",
   "metadata": {},
   "source": [
    "On peut maintenant aller chercher dans bootstrap des components qui nous interesse"
   ]
  },
  {
   "cell_type": "code",
   "execution_count": null,
   "metadata": {},
   "outputs": [],
   "source": [
    "#index.html\n",
    "\n",
    "\n",
    "\"\"\"\n",
    "<h1> La tier liste de mes chaines youtube:</h1>\n",
    "\n",
    "<div class=\"row\">\n",
    "    \n",
    "    {% for channel in channel_dictionary%}\n",
    "    <div class=\"col-md-3\">\n",
    "        <div class=\"card text-center\">\n",
    "            <img src={{channel_dictionary[channel][\"image_url\"]}} class=\"card-img-top\" alt=\"image de la chaine\">\n",
    "            <div class=\"card-body\">\n",
    "                <h5 class=\"card-title\">{{channel_dictionary[channel][\"title\"]}}</h5>\n",
    "                <p class=\"card-text\">{{channel_dictionary[channel][\"description\"]}}</p>\n",
    "                <a href={{channel_dictionary[channel][\"title\"]}} class=\"btn btn-primary\">{{channel_dictionary[channel][\"title\"]}} </a>\n",
    "            </div>\n",
    "        </div>\n",
    "    </div>\n",
    "\n",
    "    {% endfor %}\n",
    "</div>\n",
    "\"\"\""
   ]
  },
  {
   "cell_type": "markdown",
   "metadata": {},
   "source": [
    "# Les modèles et la gestion des donnéss "
   ]
  },
  {
   "cell_type": "markdown",
   "metadata": {},
   "source": [
    "## Un peu de ménage"
   ]
  },
  {
   "cell_type": "markdown",
   "metadata": {},
   "source": [
    "Notre application n'est toujours pas magnifique mais on a, à présent les outils pour l'améliorer. Il faut maintenant nous pencher sur un autre problème. Notre base de données, nous avons jusqu'à présetnstockée nos données dans un dictionnaire. Ce format est pratique quand on a peu de données mais il ne permet pas de traiter rapidemment beaucoup de données ni de faire des requetes complexes en son sein."
   ]
  },
  {
   "cell_type": "markdown",
   "metadata": {},
   "source": [
    "Afin de connecter notre base de données proprement, nous allons commencer par faire de notre application un module. Pour cela nous allons suivre plusieurs étape:\n",
    "- créer un fichier **`channel_app`** et y déplacer main.py, templates et channel_dictionary\n",
    "- renommer main.py **`views.py`**\n",
    "- à la racine du projet (en dehors de channel_app), créer un fichier **`run.py`** avec le contenu suivant:"
   ]
  },
  {
   "cell_type": "code",
   "execution_count": null,
   "metadata": {},
   "outputs": [],
   "source": [
    "# run.py\n",
    "\n",
    "#! /usr/bin/env python\n",
    "from channel_app import app\n",
    "\n",
    "if __name__ == \"__main__\":\n",
    "    app.run(debug=True)\n",
    "\n",
    "\n",
    "# supprimer la partie équivalent dans views.py\n"
   ]
  },
  {
   "cell_type": "markdown",
   "metadata": {},
   "source": [
    "Créer maintenant un fichier __init__.py dans channel_app pour le transformer en module. A l'intérieur écrivez ceci:\n"
   ]
  },
  {
   "cell_type": "code",
   "execution_count": null,
   "metadata": {},
   "outputs": [],
   "source": [
    "# __init__.py\n",
    "\n",
    "from flask import Flask\n",
    "from .views import app"
   ]
  },
  {
   "cell_type": "markdown",
   "metadata": {},
   "source": [
    "## Les modèles"
   ]
  },
  {
   "cell_type": "markdown",
   "metadata": {},
   "source": [
    "C'est le moment de parler des modèles et de la base de données. \n",
    "Un modèle correspond à la structure d'une table de notre base de données, et donc à la structure des objets que nous manipulons dans notre application."
   ]
  },
  {
   "cell_type": "markdown",
   "metadata": {},
   "source": [
    "Nous allons gérer notre base de données avec sqlite, il faut donc pour cela faire quelques manip:\n",
    "- installer sqlite3: **`sudo apt install sqlite3`** (ubuntu)\n",
    "- Créez un nouveau document à la racine de votre projet : **`app.db`**. Il s'agira de notre base de données.\n",
    "- Installer un ORM qui permet de faire le lien entre notre code python et la base de données sql. nous allons utiliser sqlalchemy. Du coup: **` pip install flask_sqlalchemy`**\n",
    "- Définir un dossier config (**`config.py`** à la racine en dehors de channel_app) qui permettra de configurer l'app et également la base de données\n",
    "- Enfin on indique à notre app le chemin vers la base de données:"
   ]
  },
  {
   "cell_type": "code",
   "execution_count": null,
   "metadata": {},
   "outputs": [],
   "source": [
    "#config.py\n",
    "\n",
    "import os\n",
    "\n",
    "basedir = os.path.abspath(os.path.dirname(__file__))\n",
    "SQLALCHEMY_DATABASE_URI = 'sqlite:///' + os.path.join(basedir, 'app.db')"
   ]
  },
  {
   "cell_type": "markdown",
   "metadata": {},
   "source": [
    "Faite en sorte que votre application utilise ces configurations"
   ]
  },
  {
   "cell_type": "code",
   "execution_count": null,
   "metadata": {},
   "outputs": [],
   "source": [
    "# views.py\n",
    "\n",
    "app = Flask(__name__)\n",
    "# Config options - Make sure you created a 'config.py' file.\n",
    "app.config.from_object('config')"
   ]
  },
  {
   "cell_type": "markdown",
   "metadata": {},
   "source": [
    "Nous pouvons à présent écrire notre premier modèle dans un fichier spécifique **`model.py`**:"
   ]
  },
  {
   "cell_type": "code",
   "execution_count": null,
   "metadata": {},
   "outputs": [],
   "source": [
    "# model.py\n",
    "\n",
    "from flask_sqlalchemy import SQLAlchemy\n",
    "\n",
    "from .views import app\n",
    "\n",
    "# Create database connection object\n",
    "db = SQLAlchemy(app)\n",
    "\n",
    "class Channel(db.Model):\n",
    "    id = db.Column(db.Integer, primary_key=True)\n",
    "    title = db.Column(db.String(200), nullable=False) \n",
    "    url = db.Column(db.String(200), nullable=False)\n",
    "    description = db.Column(db.String(200), nullable=True)\n",
    "    language = db.Column(db.String(200), nullable=True)\n",
    "    subjects = db.Column(db.String(200), nullable=True)\n",
    "    image_url = db.Column(db.String(200), nullable=True)\n",
    "\n",
    "\n",
    "    # def __init__(self, title, url,description=None, language=None, subjects=None, image_url=None):\n",
    "    #     self.title = title\n",
    "    #     self.url = url\n",
    "    #     self.description = description\n",
    "    #     self.language = language\n",
    "    #     self.subjects = subjects\n",
    "    #     self.image_url = image_url\n",
    "\n",
    "db.create_all()\n"
   ]
  },
  {
   "cell_type": "markdown",
   "metadata": {},
   "source": [
    "Il faut également intégrer ce modèle à l'application"
   ]
  },
  {
   "cell_type": "code",
   "execution_count": null,
   "metadata": {},
   "outputs": [],
   "source": [
    "# __init__.py\n",
    "\n",
    "from flask import Flask\n",
    "from .views import app\n",
    "\n",
    "from . import models\n",
    "\n",
    "# Connect sqlalchemy to app\n",
    "models.db.init_app(app)"
   ]
  },
  {
   "cell_type": "markdown",
   "metadata": {},
   "source": [
    "## Découverte de la console Flask"
   ]
  },
  {
   "cell_type": "markdown",
   "metadata": {},
   "source": [
    "On peut utiliser la console flask pour voir que la db a été ajoutée:"
   ]
  },
  {
   "cell_type": "code",
   "execution_count": null,
   "metadata": {},
   "outputs": [],
   "source": [
    "# terminal\n",
    "\n",
    "\"\"\"\n",
    ">>> FLASK_APP=run.py flask shell\n",
    "\n",
    ">>> app\n",
    "\n",
    ">>> from channel_app.models import db, Channel\n",
    ">>> db.session.add(Channel(\"Machine-Learnia\",\"https://www.youtube.com/c/MachineLearnia/featured\"))\n",
    ">>> db.session.commit()\n",
    ">>> Channel.query.all()\n",
    "\n",
    ">>> channel = Channel.query.get(1)\n",
    ">>> channel.title\n",
    "\n",
    "\"\"\""
   ]
  },
  {
   "cell_type": "markdown",
   "metadata": {},
   "source": [
    "## Peuplez la table de données pré-existantes"
   ]
  },
  {
   "cell_type": "markdown",
   "metadata": {},
   "source": [
    "On ne veut pas créer la table à chaque lancement de l'app mais une fois pour toute. Pour cela on va le faire à partir du terminal avec la commande suivante:\n",
    "\n",
    "**`FLASK_APP=run.py flask init_db`**"
   ]
  },
  {
   "cell_type": "markdown",
   "metadata": {},
   "source": [
    "Pour pouvoir faire cela il faut définir la commande dans l'**`init`** et dans **`models.py`**"
   ]
  },
  {
   "cell_type": "code",
   "execution_count": null,
   "metadata": {},
   "outputs": [],
   "source": [
    "# __init__.py\n",
    "\n",
    "import os\n",
    "from flask import Flask\n",
    "from .views import app\n",
    "from . import models\n",
    "\n",
    "\n",
    "# # Connect sqlalchemy to app\n",
    "# models.db.init_app(app)\n",
    "\n",
    "\n",
    "@app.cli.command(\"init_db\")\n",
    "def init_db():\n",
    "    models.init_db()\n",
    "\n"
   ]
  },
  {
   "cell_type": "markdown",
   "metadata": {},
   "source": [
    "On en profite pour mettre dans la base de données les données qui étaient présentes dans le dictionnaire"
   ]
  },
  {
   "cell_type": "code",
   "execution_count": null,
   "metadata": {},
   "outputs": [],
   "source": [
    "# models.py\n",
    "\n",
    "import logging as lg\n",
    "\n",
    "def init_db():\n",
    "    db.drop_all()\n",
    "    db.create_all()\n",
    "    db.session.add(Channel(\n",
    "        title = \"Tech_With_Time\",\n",
    "        description = \"Learn programming, software engineering, machine learning and everything tech from this channel. With a special emphasis on python and javascript my channel aims to give you free resources so that you can learn to code and dive into the software engineering and programming industry. My goal is to provide the highest quality programming and tech videos on the internet! \",\n",
    "        url = \"https://www.youtube.com/c/TechWithTim/featured\",\n",
    "        language = \"English\",\n",
    "        subjects = '[\"Flask\",\"Python\"]',\n",
    "        image_url = \"https://yt3.ggpht.com/ytc/AKedOLQXx-JXf1NsSUtVHcYhx4B4MaIYE0m7I_H0GHmu-w=s900-c-k-c0x00ffffff-no-rj\"\n",
    "        ))\n",
    "    db.session.add(Channel(\n",
    "        title = \"Docstring\",\n",
    "        description = \"Tutoriels, trucs & astuces, bonnes pratiques autour du langage Python, de différents framework (Django, Qt for Python...) et du développement en général.\",\n",
    "        url = \"https://www.youtube.com/c/Docstring/featured\",\n",
    "        language = \"French\",\n",
    "        subjects = '[\"Python\"]',\n",
    "        image_url = \"https://yt3.ggpht.com/3sXh0-ipDGiHgBRTle8sbGLjKm6p0PENZAeoo2-H_w3NxOLXLI7Khw2ZEi7olJNs2kMNEcql=s900-c-k-c0x00ffffff-no-rj\"\n",
    "        ))\n",
    "    db.session.add(Channel(\n",
    "        title = \"ArjanCodes\",\n",
    "        description =  \"On this channel, I post videos about programming and software design to help you take your coding skills to the next level. I'm an entrepreneur and a university lecturer in computer science, with more than 20 years of experience in software development and design. If you're a software developer and you want to improve your development skills, and learn more about programming in general, make sure to subscribe for helpful videos.\",\n",
    "        url = \"https://www.youtube.com/c/ArjanCodes/featured\",\n",
    "        language = \"English\",\n",
    "        subjects = '[\"Python\",\"POO\"]',\n",
    "        image_url = \"https://yt3.ggpht.com/PF_5a9pF_CurRWcBpGxAvYv-uMc6bsK_LYpmgHDMDnG5tTzHbYU7Jz55pU_QXm1f0nVLTmlzZw=s900-c-k-c0x00ffffff-no-rj\"\n",
    "        ))\n",
    "    db.session.commit()\n",
    "    lg.warning('Database initialized!')\n",
    "\n",
    "## to initiate:\n",
    "## FLASK_APP=app.py flask init_db\n"
   ]
  },
  {
   "cell_type": "markdown",
   "metadata": {},
   "source": [
    "## Intégrer nos modèles aux vues"
   ]
  },
  {
   "cell_type": "markdown",
   "metadata": {},
   "source": [
    "Il ne reste plus qu'à utiliser les modèles effectivement dans les vues.\n",
    "\n",
    "Pour cela on définit une fonction dans un nouveau fichier utils"
   ]
  },
  {
   "cell_type": "code",
   "execution_count": null,
   "metadata": {},
   "outputs": [],
   "source": [
    "# utils.py\n",
    "\n",
    "def row2dict(row, column_list=None):\n",
    "    d = {}\n",
    "    if column_list == None:\n",
    "        for column in row.__table__.columns:\n",
    "            d[column.name] = str(getattr(row, column.name))\n",
    "    else:\n",
    "        for column in column_list:\n",
    "            d[column] = str(getattr(row, column))\n",
    "\n",
    "    return d"
   ]
  },
  {
   "cell_type": "markdown",
   "metadata": {},
   "source": [
    "On intègre ensuite les modifications dans views.\n",
    "\n",
    "On note l'ordre des import qui est important afin de ne pas faire d'imports circulaires"
   ]
  },
  {
   "cell_type": "code",
   "execution_count": null,
   "metadata": {},
   "outputs": [],
   "source": [
    "# views.py\n",
    "\n",
    "from flask import Flask, render_template\n",
    "from .utils import row2dict\n",
    "\n",
    "\n",
    "app = Flask(__name__)\n",
    "\n",
    "\n",
    "# Config options - Make sure you created a 'config.py' file.\n",
    "app.config.from_object('config')\n",
    "\n",
    "from .models import Channel\n",
    "\n",
    "@app.route(\"/\")\n",
    "def home():\n",
    "    channel_list = []\n",
    "    for channel in Channel.query.with_entities(Channel.title, Channel.description,Channel.image_url).all():\n",
    "        channel_list.append(row2dict(channel,column_list=[\"title\",\"description\",'image_url']))\n",
    "    return render_template(\"index.html\", channel_list = channel_list)\n",
    "\n",
    "@app.route(\"/<channel>\")\n",
    "def channel(channel):\n",
    "    return render_template(\"channel.html\", channel = row2dict(Channel.query.filter_by(title = channel).first()))"
   ]
  },
  {
   "cell_type": "markdown",
   "metadata": {},
   "source": [
    "Puisqu'on ne renvoie pas tout à fait le meme objet au template index, il convient enfin de modifier celui-ci:"
   ]
  },
  {
   "cell_type": "code",
   "execution_count": null,
   "metadata": {},
   "outputs": [],
   "source": [
    "#index.html\n",
    "\n",
    "\"\"\"\n",
    "<div class=\"row\">\n",
    "    \n",
    "    {% for channel in channel_list%}\n",
    "    <div class=\"col-md-3\">\n",
    "        <div class=\"card text-center\">\n",
    "            <img src={{channel.image_url}} class=\"card-img-top\" alt=\"image de la chaine\">\n",
    "            <div class=\"card-body\">\n",
    "                <h5 class=\"card-title\">{{channel.title}}</h5>\n",
    "                <p class=\"card-text\">{{channel.description}}</p>\n",
    "                <a href={{channel.title}} class=\"btn btn-primary\">{{channel.title}} </a>\n",
    "            </div>\n",
    "        </div>\n",
    "    </div>\n",
    "\n",
    "    {% endfor %}\n",
    "</div>\n",
    "\"\"\""
   ]
  },
  {
   "cell_type": "markdown",
   "metadata": {},
   "source": [
    "On peut à présent supprimer le fichier contenant le dictionnaire qui n'est plus utile"
   ]
  },
  {
   "cell_type": "markdown",
   "metadata": {},
   "source": [
    "# Ajout de données à la database"
   ]
  },
  {
   "cell_type": "markdown",
   "metadata": {},
   "source": [
    "Nous voulons pouvoir ajouter depuis le site de nouvelles chaines à la base de données"
   ]
  },
  {
   "cell_type": "markdown",
   "metadata": {},
   "source": [
    "Nous allons commencer par créer une nouvelle vue \"new_channel\" qui possédera son propre template incluant un form"
   ]
  },
  {
   "cell_type": "code",
   "execution_count": null,
   "metadata": {},
   "outputs": [],
   "source": [
    "# new_channel.html\n",
    "\n",
    "\"\"\"\n",
    "{% extends \"base.html\" %} \n",
    "\n",
    "{% block title %} \n",
    "Ajouter une nouvelle chaine\n",
    "{% endblock  %} \n",
    "\n",
    "{% block content %} \n",
    "<h1> Ajouter une nouvelle chaine:</h1>\n",
    "\n",
    "<form action=\"#\" method=\"post\">\n",
    "<p> Titre</p>\n",
    "<p> <input type = \"texte\" name=\"title\"/> </p>\n",
    "<p> Description</p>\n",
    "<p> <input type = \"texte\" name=\"description\"/> </p>\n",
    "<p> Langage</p>\n",
    "<p> <input type = \"texte\" name=\"language\"/> </p>\n",
    "<p> Sujets</p>\n",
    "<p> <input type = \"texte\" name=\"subjects\"/> </p>\n",
    "<p> Lien</p>\n",
    "<p> <input type = \"texte\" name=\"url\"/> </p>\n",
    "<p> Image (lien)</p>\n",
    "<p> <input type = \"texte\" name=\"image_url\"/> </p>\n",
    "\n",
    "<p> <input type = \"submit\" value=\"submit\"/> </p>\n",
    "</form> \n",
    "\n",
    "\n",
    "{% endblock  %} \n",
    "\n",
    "\"\"\""
   ]
  },
  {
   "cell_type": "markdown",
   "metadata": {},
   "source": [
    "Il faut aussi pouvoir accéder à cette page depuis la page d'accueil en créer un bouton spécifique"
   ]
  },
  {
   "cell_type": "code",
   "execution_count": null,
   "metadata": {},
   "outputs": [],
   "source": [
    "# index.html\n",
    "\n",
    "\"\"\"\n",
    "<h1> La tier liste de mes chaines youtube:</h1>\n",
    "\n",
    "<a class=\"btn btn-outline-secondary\" href=\"new_channel\" role=\"button\">Ajouter une chaine</a>\n",
    "\n",
    "...\n",
    "\n",
    "\"\"\""
   ]
  },
  {
   "cell_type": "markdown",
   "metadata": {},
   "source": [
    "Il ne reste plus qu'à définir ce que fait notre vue pour GET et POST:"
   ]
  },
  {
   "cell_type": "code",
   "execution_count": null,
   "metadata": {},
   "outputs": [],
   "source": [
    "@app.route(\"/new_channel\", methods=[\"POST\",'GET'])\n",
    "def new_channel():\n",
    "   \n",
    "    if request.method ==\"POST\":\n",
    "        channel = Channel(**request.form)\n",
    "        db.session.add(channel)\n",
    "        db.session.commit()\n",
    "        return redirect(url_for(\"home\"))\n",
    "   \n",
    "   \n",
    "    return render_template(\"new_channel.html\")"
   ]
  },
  {
   "cell_type": "markdown",
   "metadata": {},
   "source": [
    "# Exercice"
   ]
  },
  {
   "cell_type": "markdown",
   "metadata": {},
   "source": [
    "- Sur la page channel, ajouter un bouton pour supprimer une chaine\n",
    "- Sur la page d'acceuil, regrouper les chaines par sujet"
   ]
  },
  {
   "cell_type": "markdown",
   "metadata": {},
   "source": [
    "# Authentification"
   ]
  },
  {
   "cell_type": "markdown",
   "metadata": {},
   "source": [
    "## 1. ajout des templates"
   ]
  },
  {
   "cell_type": "markdown",
   "metadata": {},
   "source": [
    "Ajoutons à présent l'authentification.\n",
    "Dans un premier temps nous créons les templates pour la page login et signup"
   ]
  },
  {
   "cell_type": "code",
   "execution_count": null,
   "metadata": {},
   "outputs": [],
   "source": [
    "#login.html\n",
    "{% extends \"base.html\" %}\n",
    "\n",
    "{% block title %} \n",
    "login\n",
    "{% endblock  %} \n",
    "\n",
    "\n",
    "{% block content %}\n",
    "\n",
    "<h3 class=\"title\">Login</h3>\n",
    "\n",
    "<form method=\"POST\" action=\"/login\">\n",
    "\n",
    "    <p> <input class=\"input is-large\" type=\"email\" name=\"email\" placeholder=\"Your Email\" autofocus=\"\"> </p>\n",
    "\n",
    "\n",
    "    <p><input class=\"input is-large\" type=\"password\" name=\"password\" placeholder=\"Your Password\"> </p>\n",
    "\n",
    "    <p> <label >\n",
    "        <input type=\"checkbox\" name=\"remember\">\n",
    "        Remember me\n",
    "    </label> </p>\n",
    "\n",
    "    <p> <input type = \"submit\" value=\"login\"/> </p>\n",
    "</form>\n",
    "\n",
    "\n",
    "{% endblock %}"
   ]
  },
  {
   "cell_type": "code",
   "execution_count": null,
   "metadata": {},
   "outputs": [],
   "source": [
    "# sign up\n",
    "\n",
    "{% extends \"base.html\" %}\n",
    "\n",
    "{% block title %} \n",
    "Sign up\n",
    "{% endblock  %} \n",
    "\n",
    "{% block content %}\n",
    "\n",
    "<h3>Sign Up</h3>\n",
    "<div >\n",
    "    <form method=\"POST\" action=\"/signup\">\n",
    "\n",
    "        <p> <input  type=\"email\" name=\"email\" placeholder=\"Email\" autofocus=\"\"> </p>\n",
    "\n",
    "        <p> <input  type=\"text\" name=\"name\" placeholder=\"Name\" autofocus=\"\"> </p>\n",
    "\n",
    "        <p> <input  type=\"password\" name=\"password\" placeholder=\"Password\"> </p>\n",
    "\n",
    "        <p> <button class=\"button is-block is-info is-large is-fullwidth\">Sign Up</button> </p>\n",
    "    </form>\n",
    "</div>\n",
    "\n",
    "{% endblock %}"
   ]
  },
  {
   "cell_type": "code",
   "execution_count": null,
   "metadata": {},
   "outputs": [],
   "source": [
    "#views.py\n",
    "\n",
    "@app.route('/login')\n",
    "def login():\n",
    "    return render_template('login.html')\n",
    "\n",
    "@app.route('/signup')\n",
    "def signup():\n",
    "    return render_template('signup.html')"
   ]
  },
  {
   "cell_type": "markdown",
   "metadata": {},
   "source": [
    "## 2. Création des modèles"
   ]
  },
  {
   "cell_type": "markdown",
   "metadata": {},
   "source": [
    "On crée maintenant un modèle user qui va enregistrer nos informations sur l'utilisateur"
   ]
  },
  {
   "cell_type": "code",
   "execution_count": null,
   "metadata": {},
   "outputs": [],
   "source": [
    "#model\n",
    "\n",
    "class User(db.Model):\n",
    "    id = db.Column(db.Integer, primary_key=True) # primary keys are required by SQLAlchemy\n",
    "    email = db.Column(db.String(100), unique=True)\n",
    "    password = db.Column(db.String(100))\n",
    "    name = db.Column(db.String(1000))\n"
   ]
  },
  {
   "cell_type": "markdown",
   "metadata": {},
   "source": [
    "Et on relance la création des table:\n",
    "\n",
    "**`FLASK_APP=run.py flask init_db`**"
   ]
  },
  {
   "cell_type": "markdown",
   "metadata": {},
   "source": [
    "## 3. Mise en place de sign in"
   ]
  },
  {
   "cell_type": "markdown",
   "metadata": {},
   "source": [
    "Tout à l'heure on a utiliser la meme fonction pour gérer le post et le get, mais on peut également le distinguer:"
   ]
  },
  {
   "cell_type": "markdown",
   "metadata": {},
   "source": [
    "A noter qu'on enregistre le mot de passe sous forme de hash'"
   ]
  },
  {
   "cell_type": "code",
   "execution_count": null,
   "metadata": {},
   "outputs": [],
   "source": [
    "#views.py\n",
    "from werkzeug.security import generate_password_hash, check_password_hash\n",
    "\n",
    "...\n",
    "\n",
    "from .models import Channel, User, db\n",
    "\n",
    "\n",
    "...\n",
    "\n",
    "@app.route('/signup', methods=['POST'])\n",
    "def signup_post():\n",
    "    # code to validate and add user to database goes here\n",
    "    email = request.form.get('email')\n",
    "    name = request.form.get('name')\n",
    "    password = request.form.get('password')\n",
    "\n",
    "    user = User.query.filter_by(email=email).first() # if this returns a user, then the email already exists in database\n",
    "\n",
    "    if user: # if a user is found, we want to redirect back to signup page so user can try again\n",
    "        return redirect(url_for('signup'))\n",
    "\n",
    "    # create a new user with the form data. Hash the password so the plaintext version isn't saved.\n",
    "    new_user = User(email=email, name=name, password=generate_password_hash(password, method='sha256'))\n",
    "\n",
    "    # add the new user to the database\n",
    "    db.session.add(new_user)\n",
    "    db.session.commit()\n",
    "\n",
    "    return redirect(url_for(\"login\"))\n",
    "\n",
    "\n",
    "@app.route('/login', methods=['POST'])\n",
    "def login_post():\n",
    "    # login code goes here\n",
    "    email = request.form.get('email')\n",
    "    password = request.form.get('password')\n",
    "    remember = True if request.form.get('remember') else False\n",
    "\n",
    "    user = User.query.filter_by(email=email).first()\n",
    "\n",
    "    # check if the user actually exists\n",
    "    # take the user-supplied password, hash it, and compare it to the hashed password in the database\n",
    "    if not user or not check_password_hash(user.password, password):\n",
    "        return redirect(url_for('login')) # if the user doesn't exist or password is wrong, reload the page\n",
    "\n",
    "    # if the above check passes, then we know the user has the right credentials\n",
    "    return redirect(url_for('home'))\n",
    "\n"
   ]
  },
  {
   "cell_type": "markdown",
   "metadata": {},
   "source": [
    "## 4. Manage user session"
   ]
  },
  {
   "cell_type": "markdown",
   "metadata": {},
   "source": [
    "Flask-Login can manage user sessions. Start by adding the UserMixin to your User model. The UserMixin will add Flask-Login attributes to the model so that Flask-Login will be able to work with it."
   ]
  },
  {
   "cell_type": "code",
   "execution_count": null,
   "metadata": {},
   "outputs": [],
   "source": [
    "#model.py\n",
    "\n",
    "from flask_login import UserMixin\n",
    "from . import db\n",
    "\n",
    "class User(UserMixin, db.Model):\n",
    "    id = db.Column(db.Integer, primary_key=True) # primary keys are required by SQLAlchemy\n",
    "    email = db.Column(db.String(100), unique=True)\n",
    "    password = db.Column(db.String(100))\n",
    "    name = db.Column(db.String(1000))"
   ]
  },
  {
   "cell_type": "markdown",
   "metadata": {},
   "source": [
    "Then, you need to specify the user loader. A user loader tells Flask-Login how to find a specific user from the ID that is stored in their session cookie. Add this in the create_app function along with init code for Flask-Login:"
   ]
  },
  {
   "cell_type": "code",
   "execution_count": null,
   "metadata": {},
   "outputs": [],
   "source": [
    "## __init__.py\n",
    "\n",
    "\n",
    "...\n",
    "\n",
    "from flask_login import LoginManager\n",
    "\n",
    "...\n",
    "\n",
    "login_manager = LoginManager()\n",
    "login_manager.login_view = 'login'\n",
    "login_manager.init_app(app)\n",
    "\n",
    "from .models import User\n",
    "\n",
    "@login_manager.user_loader\n",
    "def load_user(user_id):\n",
    "    # since the user_id is just the primary key of our user table, use it in the query for the user\n",
    "    return User.query.get(int(user_id))\n",
    "\n",
    "..."
   ]
  },
  {
   "cell_type": "code",
   "execution_count": null,
   "metadata": {},
   "outputs": [],
   "source": [
    "#views.py\n",
    "\n",
    "from flask_login import login_user\n",
    "\n",
    "...\n",
    "@app.route('/login', methods=['POST'])\n",
    "def login_post():\n",
    "    ...\n",
    "    # if the above check passes, then we know the user has the right credentials\n",
    "    login_user(user, remember=remember)\n",
    "    return redirect(url_for('home'))"
   ]
  },
  {
   "cell_type": "markdown",
   "metadata": {},
   "source": [
    "You need to add a secret key"
   ]
  },
  {
   "cell_type": "code",
   "execution_count": null,
   "metadata": {},
   "outputs": [],
   "source": [
    "#config.py\n",
    "SECRET_KEY = 'a_secret_string'"
   ]
  },
  {
   "cell_type": "markdown",
   "metadata": {},
   "source": [
    "## 5. Protect pages"
   ]
  },
  {
   "cell_type": "code",
   "execution_count": null,
   "metadata": {},
   "outputs": [],
   "source": [
    "#views.py\n",
    "from flask_login import login_user, login_required, current_user, logout_user\n",
    "\n",
    "@app.route('/private')\n",
    "@login_required\n",
    "def private():\n",
    "    return f\"Bonjour {current_user.name}\"\n",
    "\n",
    "\n",
    "@auth.route('/logout')\n",
    "@login_required\n",
    "def logout():\n",
    "    logout_user()\n",
    "    return redirect(url_for('home'))"
   ]
  },
  {
   "cell_type": "markdown",
   "metadata": {},
   "source": [
    "# Deploy "
   ]
  },
  {
   "cell_type": "markdown",
   "metadata": {},
   "source": [
    "Pour déployer:\n",
    "- Créez une ressource azure services (app services)\n",
    "    - Runtimestack: python 3.9\n",
    "    - App Services plan (utiliser un gratuit dans Dev/test)\n",
    "- Dans development center, choisissez comme source Github et faite le lien vers votre répertoire contenant l'app"
   ]
  },
  {
   "cell_type": "markdown",
   "metadata": {},
   "source": [
    "Règles à vérifier sur votre répertoire pour que le deploiement fonctionne:\n",
    "- Votre application doit être lancée depuis un fichier qui s'appelle app.py et votre application doit d'appeler app\n",
    "- Si vous faites une application basique assurez vous qu'au moins les endpoints renvoient du html et non de simple chaines de caractère \n",
    "    - @app.route(\"/\") def home(): return \"hello\" ne marche pas\n",
    "- Ce n'est pas toujours obligatoire mais pour que ça marche chez moi j'ai du préciser le host et le port et faire en sorte qu'il correspond à ce qu'écoute le conteneur\n",
    "    - app.run(host='0.0.0.0', port=8000)\n",
    "- Pour debbuger allez dans un premier temps App Service logs et choisissez File Système puis sauvegardez puis allez dans Log Stream"
   ]
  }
 ],
 "metadata": {
  "interpreter": {
   "hash": "aee8b7b246df8f9039afb4144a1f6fd8d2ca17a180786b69acc140d282b71a49"
  },
  "kernelspec": {
   "display_name": "Python 3.9.9 64-bit",
   "language": "python",
   "name": "python3"
  },
  "language_info": {
   "codemirror_mode": {
    "name": "ipython",
    "version": 3
   },
   "file_extension": ".py",
   "mimetype": "text/x-python",
   "name": "python",
   "nbconvert_exporter": "python",
   "pygments_lexer": "ipython3",
   "version": "3.9.12"
  },
  "orig_nbformat": 4
 },
 "nbformat": 4,
 "nbformat_minor": 2
}
